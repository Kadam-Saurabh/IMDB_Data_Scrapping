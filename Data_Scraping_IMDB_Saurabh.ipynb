{
 "cells": [
  {
   "cell_type": "markdown",
   "id": "8b4f6210",
   "metadata": {},
   "source": [
    "# Import Libraries\n"
   ]
  },
  {
   "cell_type": "code",
   "execution_count": 2,
   "id": "550d00a5",
   "metadata": {},
   "outputs": [],
   "source": [
    "import requests\n",
    "from bs4 import BeautifulSoup\n"
   ]
  },
  {
   "cell_type": "markdown",
   "id": "03cce527",
   "metadata": {},
   "source": [
    "# Send a HTTP request to get the HTML Content"
   ]
  },
  {
   "cell_type": "code",
   "execution_count": 8,
   "id": "644327f9",
   "metadata": {},
   "outputs": [
    {
     "name": "stdout",
     "output_type": "stream",
     "text": [
      "<Response [200]>\n"
     ]
    }
   ],
   "source": [
    "url = requests.get('https://www.imdb.com/chart/top/',headers = {\"User-Agent\": \"Mozilla/5.0\"})\n",
    "print(url)\n"
   ]
  },
  {
   "cell_type": "markdown",
   "id": "6796fb2a",
   "metadata": {},
   "source": [
    "# Parsing the HTML Content to BS4 For Data Extraction\n"
   ]
  },
  {
   "cell_type": "code",
   "execution_count": 9,
   "id": "8a9680b5",
   "metadata": {},
   "outputs": [],
   "source": [
    "soup = BeautifulSoup(url.text,\"html.parser\")\n"
   ]
  },
  {
   "cell_type": "markdown",
   "id": "8a4c1d03",
   "metadata": {},
   "source": [
    "# Analyze which data we need to extract from the html content by using its elements"
   ]
  },
  {
   "cell_type": "code",
   "execution_count": 10,
   "id": "8972dad3",
   "metadata": {},
   "outputs": [],
   "source": [
    "data = soup.find('script',id='__NEXT_DATA__')\n"
   ]
  },
  {
   "cell_type": "markdown",
   "id": "e54d7825",
   "metadata": {},
   "source": [
    "# Convert Data From Json String to Python Dictionary\n"
   ]
  },
  {
   "cell_type": "code",
   "execution_count": 11,
   "id": "decdf9ca",
   "metadata": {},
   "outputs": [
    {
     "name": "stdout",
     "output_type": "stream",
     "text": [
      "<class 'str'>\n"
     ]
    }
   ],
   "source": [
    "data = str(data.text)\n",
    "data = data.replace('false','False')\n",
    "data = data.replace('true','True')\n",
    "data = data.replace('null','None')\n",
    "print(type(data))\n",
    "data = eval(data)\n"
   ]
  },
  {
   "cell_type": "code",
   "execution_count": 12,
   "id": "5be59ad8",
   "metadata": {},
   "outputs": [],
   "source": [
    "data_fetched = data['props']['pageProps']['pageData']['chartTitles']['edges']"
   ]
  },
  {
   "cell_type": "code",
   "execution_count": 14,
   "id": "42c21720",
   "metadata": {},
   "outputs": [
    {
     "data": {
      "text/plain": [
       "'The Shawshank Redemption'"
      ]
     },
     "execution_count": 14,
     "metadata": {},
     "output_type": "execute_result"
    }
   ],
   "source": [
    "movie_name = data_fetched[0]['node']['titleText']['text']\n",
    "movie_name\n"
   ]
  },
  {
   "cell_type": "code",
   "execution_count": 15,
   "id": "dd8350ed",
   "metadata": {},
   "outputs": [
    {
     "data": {
      "text/plain": [
       "1994"
      ]
     },
     "execution_count": 15,
     "metadata": {},
     "output_type": "execute_result"
    }
   ],
   "source": [
    "year = data_fetched[0]['node']['releaseYear']['year']\n",
    "year\n"
   ]
  },
  {
   "cell_type": "code",
   "execution_count": 16,
   "id": "6d2789c7",
   "metadata": {},
   "outputs": [
    {
     "data": {
      "text/plain": [
       "9.3"
      ]
     },
     "execution_count": 16,
     "metadata": {},
     "output_type": "execute_result"
    }
   ],
   "source": [
    "ratings = data_fetched[0]['node']['ratingsSummary']['aggregateRating']\n",
    "ratings\n",
    "\n"
   ]
  },
  {
   "cell_type": "code",
   "execution_count": 18,
   "id": "5816a35e",
   "metadata": {},
   "outputs": [
    {
     "name": "stdout",
     "output_type": "stream",
     "text": [
      "****************************************************************************************************\n",
      "Movie Name is ['The Shawshank Redemption', 'The Godfather', 'The Dark Knight', 'The Godfather: Part II', '12 Angry Men', 'The Lord of the Rings: The Return of the King', \"Schindler's List\", 'Pulp Fiction', 'The Lord of the Rings: The Fellowship of the Ring', 'Il Buono, Il Brutto, Il Cattivo', 'Forrest Gump', 'The Lord of the Rings: The Two Towers', 'Fight Club', 'Inception', 'Star Wars: Episode V - The Empire Strikes Back', 'The Matrix', 'GoodFellas', \"One Flew Over the Cuckoo's Nest\", 'Interstellar', 'Se7en', \"It's a Wonderful Life\", 'Shichinin No Samurai', 'The Silence of the Lambs', 'Saving Private Ryan', 'City of God', 'Life Is Beautiful', 'The Green Mile', 'Terminator 2: Judgment Day', 'Star Wars: Episode IV - A New Hope', 'Back to the Future', 'Spirited Away', 'The Pianist', 'Parasite', 'Psycho', 'Gladiator', 'The Lion King', 'Spider-man: Across the Spider-verse', 'The Departed', 'Whiplash', 'Grave of the Fireflies', 'American History X', 'Léon', 'The Prestige', 'Seppuku', 'The Usual Suspects', 'Casablanca', 'Dune: Part Two', 'Intouchables', 'Cinema Paradiso', 'Modern Times', 'Alien', 'Rear Window', \"C'era Una Volta Il West\", 'Django Unchained', 'City Lights', 'Apocalypse Now', 'Memento', 'WALL·E', 'Raiders of the Lost Ark', '12th Fail', 'Das Leben der Anderen', 'Sunset Blvd.', 'Avengers: Infinity War', 'Paths of Glory', 'Spider-Man: Into the Spider-Verse', 'Witness for the Prosecution', 'The Shining', 'The Great Dictator', 'Alien 2', 'Inglourious Basterds', 'The Dark Knight Rises', 'Coco', 'Amadeus', 'Toy Story', 'Dr. Strangelove or: How I Learned to Stop Worrying and Love the Bomb', 'Oldeuboi', 'American Beauty', 'Avengers: Endgame', 'Das Boot', 'Braveheart', 'Good Will Hunting', 'Mononoke-hime', 'Kimi No Na Wa.', 'Joker', 'Tengoku to Jigoku', '3 Idiots', 'Once Upon a Time in America', \"Singin' in the Rain\", 'Capharnaüm', 'Idi I Smotri', 'Requiem for a Dream', 'Toy Story 3', 'Star Wars: Episode VI - Return of the Jedi', 'Jagten', 'Eternal Sunshine of the Spotless Mind', '2001: A Space Odyssey', 'Ikiru', 'Reservoir Dogs', 'Lawrence of Arabia', 'The Apartment', 'Incendies', 'Scarface', 'North by Northwest', 'Citizen Kane', 'Double Indemnity', 'Oppenheimer', 'M - Eine Stadt sucht einen Mörder', 'Vertigo', 'Heat', 'Full Metal Jacket', \"Le fabuleux destin d'Amélie Poulain\", 'Up', 'A Clockwork Orange', 'To Kill a Mockingbird', 'Jodaeiye Nader Az Simin', 'The Sting', 'Die Hard', 'Indiana Jones and the Last Crusade', 'Taare Zameen Par', 'Metropolis', 'Snatch', '1917', 'L.A. Confidential', 'Ladri Di Biciclette', 'Der Untergang', 'Hamilton', 'Taxi Driver', 'Dangal', 'Batman Begins', 'The Wolf of Wall Street', 'Per qualche dollaro in più', 'Green Book', 'Some Like It Hot', 'The Truman Show', 'Judgment at Nuremberg', 'The Kid', 'The Father', 'All About Eve', 'Shutter Island', 'There Will Be Blood', 'Jurassic Park', 'Casino', 'Top Gun: Maverick', 'Ran', 'The Sixth Sense', 'El Laberinto Del Fauno', 'Unforgiven', 'No Country for Old Men', 'The Thing', 'A Beautiful Mind', 'Kill Bill: Vol. 1', 'The Treasure of the Sierra Madre', 'Yojimbo', 'The Great Escape', 'Finding Nemo', 'Monty Python and the Holy Grail', 'Prisoners', \"Howl's Moving Castle\", 'The Elephant Man', 'Rashōmon', 'Dial M for Murder', 'Chinatown', 'Gone with the Wind', 'El Secreto De Sus Ojos', 'Lock, Stock and Two Smoking Barrels', 'Inside Out', 'V for Vendetta', 'Three Billboards Outside Ebbing, Missouri', 'Raging Bull', 'Trainspotting', 'The Bridge on the River Kwai', 'Klaus', 'Catch Me If You Can', 'Fargo', 'Warrior', 'Spider-Man: No Way Home', 'Gran Torino', 'Harry Potter and the Deathly Hallows: Part 2', 'Million Dollar Baby', 'My Neighbour Totoro', 'Mad Max: Fury Road', 'Bacheha-Ye Aseman', 'Ben-Hur', '12 Years a Slave', 'Barry Lyndon', 'Before Sunrise', 'Blade Runner', 'The Grand Budapest Hotel', 'Hacksaw Ridge', 'Gone Girl', 'Dead Poets Society', 'Maharaja', 'Salinui Chueok', 'In the Name of the Father', 'The Gold Rush', 'Monsters, Inc.', 'Relatos Salvajes', 'The Deer Hunter', 'Ratatouille', 'Sherlock Jr.', 'The General', 'Jaws', 'How to Train Your Dragon', 'On the Waterfront', 'Mary and Max', 'Le Salaire De La Peur', 'Ford v. Ferrari', 'Smultronstället', 'Mr. Smith Goes to Washington', 'The Third Man', 'Logan', 'Rocky', 'Tokyo Story', 'The Big Lebowski', 'Det Sjunde Inseglet', 'Room', 'Spotlight', 'The Terminator', 'Hotel Rwanda', 'Platoon', 'Pirates of the Caribbean: The Curse of the Black Pearl', 'La haine', 'Before Sunset', \"La passion de Jeanne d'Arc\", 'Jai Bhim', 'The Best Years of Our Lives', 'The Exorcist', 'Rush', 'The Incredibles', 'Network', 'The Wizard of Oz', 'Stand by Me', \"Hachi: A Dog's Tale\", 'The Sound of Music', 'My Father and My Son', 'Ah-ga-ssi', 'To Be or Not to Be', 'Into the Wild', 'La battaglia di Algeri', 'The Iron Giant', 'Groundhog Day', 'The Grapes of Wrath', 'Amores perros', 'Rebecca', 'The Help', 'Cool Hand Luke', 'It Happened One Night', 'Gangs of Wasseypur', 'Drishyam', 'Paris, Texas']\n",
      "****************************************************************************************************\n",
      "Year is [1994, 1972, 2008, 1974, 1957, 2003, 1993, 1994, 2001, 1966, 1994, 2002, 1999, 2010, 1980, 1999, 1990, 1975, 2014, 1995, 1946, 1954, 1991, 1998, 2002, 1997, 1999, 1991, 1977, 1985, 2001, 2002, 2019, 1960, 2000, 1994, 2023, 2006, 2014, 1988, 1998, 1994, 2006, 1962, 1995, 1942, 2024, 2011, 1988, 1936, 1979, 1954, 1968, 2012, 1931, 1979, 2000, 2008, 1981, 2023, 2006, 1950, 2018, 1957, 2018, 1957, 1980, 1940, 1986, 2009, 2012, 2017, 1984, 1995, 1964, 2003, 1999, 2019, 1981, 1995, 1997, 1997, 2016, 2019, 1963, 2009, 1984, 1952, 2018, 1985, 2000, 2010, 1983, 2012, 2004, 1968, 1952, 1992, 1962, 1960, 2010, 1983, 1959, 1941, 1944, 2023, 1931, 1958, 1995, 1987, 2001, 2009, 1971, 1962, 2011, 1973, 1988, 1989, 2007, 1927, 2000, 2019, 1997, 1948, 2004, 2020, 1976, 2016, 2005, 2013, 1965, 2018, 1959, 1998, 1961, 1921, 2020, 1950, 2010, 2007, 1993, 1995, 2022, 1985, 1999, 2006, 1992, 2007, 1982, 2001, 2003, 1948, 1961, 1963, 2003, 1975, 2013, 2004, 1980, 1950, 1954, 1974, 1939, 2009, 1998, 2015, 2005, 2017, 1980, 1996, 1957, 2019, 2002, 1996, 2011, 2021, 2008, 2011, 2004, 1988, 2015, 1997, 1959, 2013, 1975, 1995, 1982, 2014, 2016, 2014, 1989, 2024, 2003, 1993, 1925, 2001, 2014, 1978, 2007, 1924, 1926, 1975, 2010, 1954, 2009, 1953, 2019, 1957, 1939, 1949, 2017, 1976, 1953, 1998, 1957, 2015, 2015, 1984, 2004, 1986, 2003, 1995, 2004, 1928, 2021, 1946, 1973, 2013, 2004, 1976, 1939, 1986, 2009, 1965, 2005, 2016, 1942, 2007, 1966, 1999, 1993, 1940, 2000, 1940, 2011, 1967, 1934, 2012, 2015, 1984]\n",
      "****************************************************************************************************\n",
      "Rating is [9.3, 9.2, 9, 9, 9, 9, 9, 8.9, 8.9, 8.8, 8.8, 8.8, 8.8, 8.8, 8.7, 8.7, 8.7, 8.7, 8.7, 8.6, 8.6, 8.6, 8.6, 8.6, 8.6, 8.6, 8.6, 8.6, 8.6, 8.5, 8.6, 8.5, 8.5, 8.5, 8.5, 8.5, 8.6, 8.5, 8.5, 8.5, 8.5, 8.5, 8.5, 8.6, 8.5, 8.5, 8.5, 8.5, 8.5, 8.5, 8.5, 8.5, 8.5, 8.5, 8.5, 8.4, 8.4, 8.4, 8.4, 8.8, 8.4, 8.4, 8.4, 8.4, 8.4, 8.4, 8.4, 8.4, 8.4, 8.4, 8.4, 8.4, 8.4, 8.3, 8.3, 8.3, 8.3, 8.4, 8.4, 8.3, 8.3, 8.3, 8.4, 8.4, 8.4, 8.4, 8.3, 8.3, 8.4, 8.4, 8.3, 8.3, 8.3, 8.3, 8.3, 8.3, 8.3, 8.3, 8.3, 8.3, 8.3, 8.3, 8.3, 8.3, 8.3, 8.3, 8.3, 8.3, 8.3, 8.2, 8.3, 8.3, 8.2, 8.3, 8.3, 8.3, 8.2, 8.2, 8.3, 8.3, 8.2, 8.2, 8.2, 8.3, 8.2, 8.3, 8.2, 8.3, 8.2, 8.2, 8.2, 8.2, 8.2, 8.2, 8.3, 8.2, 8.2, 8.2, 8.2, 8.2, 8.2, 8.2, 8.2, 8.2, 8.2, 8.2, 8.2, 8.2, 8.2, 8.2, 8.2, 8.2, 8.2, 8.2, 8.2, 8.2, 8.2, 8.2, 8.2, 8.2, 8.2, 8.1, 8.2, 8.2, 8.1, 8.1, 8.1, 8.1, 8.1, 8.1, 8.1, 8.2, 8.1, 8.1, 8.1, 8.2, 8.1, 8.1, 8.1, 8.1, 8.1, 8.2, 8.1, 8.1, 8.1, 8.1, 8.1, 8.1, 8.1, 8.1, 8.1, 8.5, 8.1, 8.1, 8.1, 8.1, 8.1, 8.1, 8.1, 8.2, 8.1, 8.1, 8.1, 8.1, 8.1, 8.1, 8.1, 8.1, 8.1, 8.1, 8.1, 8.1, 8.1, 8.1, 8.1, 8.1, 8.1, 8.1, 8.1, 8.1, 8.1, 8.1, 8.1, 8.1, 8.7, 8.1, 8.1, 8.1, 8, 8.1, 8.1, 8.1, 8.1, 8.1, 8.2, 8.1, 8.1, 8.1, 8.1, 8.1, 8, 8.1, 8, 8.1, 8.1, 8.1, 8.1, 8.2, 8.2, 8.1]\n",
      "****************************************************************************************************\n"
     ]
    }
   ],
   "source": [
    "l1=[]\n",
    "l2=[]\n",
    "l3=[]\n",
    "for i in range(len(data_fetched)):\n",
    "    movie_name = data_fetched[i]['node']['titleText']['text']\n",
    "    year = data_fetched[i]['node']['releaseYear']['year']\n",
    "    rating = data_fetched[i]['node']['ratingsSummary']['aggregateRating']\n",
    "    l1.append(movie_name)\n",
    "    l2.append(year)\n",
    "    l3.append(rating)\n",
    "print(\"*\"*100)\n",
    "print(\"Movie Name is\",l1)\n",
    "print(\"*\"*100)\n",
    "print(\"Year is\",l2)\n",
    "print(\"*\"*100)\n",
    "print(\"Rating is\",l3)\n",
    "print(\"*\"*100)\n",
    "    "
   ]
  },
  {
   "cell_type": "code",
   "execution_count": 19,
   "id": "03bd1dd5",
   "metadata": {},
   "outputs": [
    {
     "data": {
      "text/html": [
       "<div>\n",
       "<style scoped>\n",
       "    .dataframe tbody tr th:only-of-type {\n",
       "        vertical-align: middle;\n",
       "    }\n",
       "\n",
       "    .dataframe tbody tr th {\n",
       "        vertical-align: top;\n",
       "    }\n",
       "\n",
       "    .dataframe thead th {\n",
       "        text-align: right;\n",
       "    }\n",
       "</style>\n",
       "<table border=\"1\" class=\"dataframe\">\n",
       "  <thead>\n",
       "    <tr style=\"text-align: right;\">\n",
       "      <th></th>\n",
       "      <th>movie name</th>\n",
       "      <th>year</th>\n",
       "      <th>ratings</th>\n",
       "    </tr>\n",
       "  </thead>\n",
       "  <tbody>\n",
       "    <tr>\n",
       "      <th>0</th>\n",
       "      <td>The Shawshank Redemption</td>\n",
       "      <td>1994</td>\n",
       "      <td>9.3</td>\n",
       "    </tr>\n",
       "    <tr>\n",
       "      <th>1</th>\n",
       "      <td>The Godfather</td>\n",
       "      <td>1972</td>\n",
       "      <td>9.2</td>\n",
       "    </tr>\n",
       "    <tr>\n",
       "      <th>2</th>\n",
       "      <td>The Dark Knight</td>\n",
       "      <td>2008</td>\n",
       "      <td>9.0</td>\n",
       "    </tr>\n",
       "    <tr>\n",
       "      <th>3</th>\n",
       "      <td>The Godfather: Part II</td>\n",
       "      <td>1974</td>\n",
       "      <td>9.0</td>\n",
       "    </tr>\n",
       "    <tr>\n",
       "      <th>4</th>\n",
       "      <td>12 Angry Men</td>\n",
       "      <td>1957</td>\n",
       "      <td>9.0</td>\n",
       "    </tr>\n",
       "    <tr>\n",
       "      <th>...</th>\n",
       "      <td>...</td>\n",
       "      <td>...</td>\n",
       "      <td>...</td>\n",
       "    </tr>\n",
       "    <tr>\n",
       "      <th>245</th>\n",
       "      <td>Cool Hand Luke</td>\n",
       "      <td>1967</td>\n",
       "      <td>8.1</td>\n",
       "    </tr>\n",
       "    <tr>\n",
       "      <th>246</th>\n",
       "      <td>It Happened One Night</td>\n",
       "      <td>1934</td>\n",
       "      <td>8.1</td>\n",
       "    </tr>\n",
       "    <tr>\n",
       "      <th>247</th>\n",
       "      <td>Gangs of Wasseypur</td>\n",
       "      <td>2012</td>\n",
       "      <td>8.2</td>\n",
       "    </tr>\n",
       "    <tr>\n",
       "      <th>248</th>\n",
       "      <td>Drishyam</td>\n",
       "      <td>2015</td>\n",
       "      <td>8.2</td>\n",
       "    </tr>\n",
       "    <tr>\n",
       "      <th>249</th>\n",
       "      <td>Paris, Texas</td>\n",
       "      <td>1984</td>\n",
       "      <td>8.1</td>\n",
       "    </tr>\n",
       "  </tbody>\n",
       "</table>\n",
       "<p>250 rows × 3 columns</p>\n",
       "</div>"
      ],
      "text/plain": [
       "                   movie name  year  ratings\n",
       "0    The Shawshank Redemption  1994      9.3\n",
       "1               The Godfather  1972      9.2\n",
       "2             The Dark Knight  2008      9.0\n",
       "3      The Godfather: Part II  1974      9.0\n",
       "4                12 Angry Men  1957      9.0\n",
       "..                        ...   ...      ...\n",
       "245            Cool Hand Luke  1967      8.1\n",
       "246     It Happened One Night  1934      8.1\n",
       "247        Gangs of Wasseypur  2012      8.2\n",
       "248                  Drishyam  2015      8.2\n",
       "249              Paris, Texas  1984      8.1\n",
       "\n",
       "[250 rows x 3 columns]"
      ]
     },
     "execution_count": 19,
     "metadata": {},
     "output_type": "execute_result"
    }
   ],
   "source": [
    "import pandas as pd\n",
    "d = {\"movie name\":l1,\"year\":l2,\"ratings\":l3}\n",
    "df = pd.DataFrame(d)\n",
    "df\n"
   ]
  },
  {
   "cell_type": "code",
   "execution_count": null,
   "id": "ae97173d",
   "metadata": {},
   "outputs": [],
   "source": []
  },
  {
   "cell_type": "code",
   "execution_count": 23,
   "id": "1a54812e",
   "metadata": {},
   "outputs": [
    {
     "name": "stdout",
     "output_type": "stream",
     "text": [
      "Montgomery: Huntsville\n",
      "Juneau: Anchorage\n",
      "Phoenix: Feb 14, 1912\n",
      "Little Rock: Jun 15, 1836\n",
      "Sacramento: Los Angeles\n",
      "Denver: Aug 1, 1876\n",
      "Hartford: Bridgeport\n",
      "Dover: Wilmington\n",
      "Tallahassee: Jacksonville\n",
      "Atlanta: Jan 2, 1788\n",
      "Honolulu: Aug 21, 1959\n",
      "Boise: Jul 3, 1890\n",
      "Springfield: Chicago\n",
      "Indianapolis: Dec 11, 1816\n",
      "Des Moines: Dec 28, 1846\n",
      "Topeka: Wichita\n",
      "Frankfort: Louisville\n",
      "Baton Rouge: New Orleans\n",
      "Augusta: Portland\n",
      "Annapolis: Baltimore\n",
      "Boston: Feb 6, 1788\n",
      "Lansing: Detroit\n",
      "Saint Paul: Minneapolis\n",
      "Jackson: Dec 10, 1817\n",
      "Jefferson City: Kansas City\n",
      "Helena: Billings\n",
      "Lincoln: Omaha\n",
      "Carson City: Las Vegas\n",
      "Concord: Manchester\n",
      "Trenton: Newark\n",
      "Santa Fe: Albuquerque\n",
      "Albany: New York City\n",
      "Raleigh: Charlotte\n",
      "Bismarck: Fargo\n",
      "Columbus: Mar 1, 1803\n",
      "Oklahoma City: Nov 16, 1907\n",
      "Salem: Portland\n",
      "Harrisburg: Philadelphia\n",
      "Providence: May 29, 1790\n",
      "Columbia: Charleston\n",
      "Pierre: Sioux Falls\n",
      "Nashville: Jun 1, 1796\n",
      "Austin: Houston\n",
      "Salt Lake City: Jan 4, 1896\n",
      "Montpelier: Burlington\n",
      "Richmond: Virginia Beach\n",
      "Olympia: Seattle\n",
      "Charleston: Jun 20, 1863\n",
      "Madison: Milwaukee\n",
      "Cheyenne: Jul 10, 1890\n"
     ]
    }
   ],
   "source": [
    "import requests\n",
    "from bs4 import BeautifulSoup\n",
    "\n",
    "# URL of the Wikipedia page\n",
    "url = \"https://en.wikipedia.org/wiki/List_of_states_and_territories_of_the_United_States\"\n",
    "\n",
    "# Send a GET request to the URL\n",
    "response = requests.get(url)\n",
    "soup = BeautifulSoup(response.content, 'html.parser')\n",
    "\n",
    "# Find the table on the page\n",
    "table = soup.find('table', {'class': 'wikitable'})\n",
    "\n",
    "# Extract state names and populations using list comprehensions\n",
    "states = [row.find_all('td')[1].get_text(strip=True) for row in table.find_all('tr')[1:] if len(row.find_all('td')) > 1]\n",
    "populations = [row.find_all('td')[2].get_text(strip=True) for row in table.find_all('tr')[1:] if len(row.find_all('td')) > 1]\n",
    "\n",
    "# Print results\n",
    "for state, population in zip(states, populations):\n",
    "    print(f\"{state}: {population}\")\n"
   ]
  },
  {
   "cell_type": "code",
   "execution_count": null,
   "id": "ce78e17f",
   "metadata": {},
   "outputs": [],
   "source": []
  }
 ],
 "metadata": {
  "kernelspec": {
   "display_name": "Python 3 (ipykernel)",
   "language": "python",
   "name": "python3"
  },
  "language_info": {
   "codemirror_mode": {
    "name": "ipython",
    "version": 3
   },
   "file_extension": ".py",
   "mimetype": "text/x-python",
   "name": "python",
   "nbconvert_exporter": "python",
   "pygments_lexer": "ipython3",
   "version": "3.11.5"
  }
 },
 "nbformat": 4,
 "nbformat_minor": 5
}
